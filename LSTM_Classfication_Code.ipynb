{
  "cells": [
    {
      "cell_type": "markdown",
      "metadata": {
        "id": "view-in-github",
        "colab_type": "text"
      },
      "source": [
        "<a href=\"https://colab.research.google.com/github/MinahilSadiq1/Classification_of_Corn_Crop/blob/main/LSTM_Classfication_Code.ipynb\" target=\"_parent\"><img src=\"https://colab.research.google.com/assets/colab-badge.svg\" alt=\"Open In Colab\"/></a>"
      ]
    },
    {
      "cell_type": "code",
      "execution_count": null,
      "id": "8OcZLSqzt1G9",
      "metadata": {
        "id": "8OcZLSqzt1G9"
      },
      "outputs": [],
      "source": [
        "!pip install geemap"
      ]
    },
    {
      "cell_type": "code",
      "execution_count": null,
      "id": "hs2u7cpCt1DE",
      "metadata": {
        "id": "hs2u7cpCt1DE"
      },
      "outputs": [],
      "source": [
        "import geemap"
      ]
    },
    {
      "cell_type": "code",
      "execution_count": null,
      "id": "4CVrKqgeAv6z",
      "metadata": {
        "id": "4CVrKqgeAv6z"
      },
      "outputs": [],
      "source": [
        "import folium"
      ]
    },
    {
      "cell_type": "code",
      "execution_count": null,
      "id": "9kv2jYZxt1BD",
      "metadata": {
        "id": "9kv2jYZxt1BD"
      },
      "outputs": [],
      "source": [
        "import ee\n",
        "ee.Authenticate()\n",
        "ee.Initialize()"
      ]
    },
    {
      "cell_type": "code",
      "execution_count": null,
      "id": "fGRBNiutt0-R",
      "metadata": {
        "id": "fGRBNiutt0-R"
      },
      "outputs": [],
      "source": [
        "#for testing\n",
        "Map = geemap.Map(center=[31.5204, 74.3587], zoom=20)\n",
        "Map"
      ]
    },
    {
      "cell_type": "code",
      "execution_count": null,
      "id": "50q7nO9nt07w",
      "metadata": {
        "id": "50q7nO9nt07w"
      },
      "outputs": [],
      "source": [
        "#loading sentinel 2\n",
        "sentinel2 = ee.ImageCollection(\"COPERNICUS/S2_SR\")\n",
        "#district boundaries\n",
        "district_boundary_table = ee.FeatureCollection(\"projects/ee-sp20-bcs-023/assets/boundaries_file-polygon\")\n",
        "#alpha farm fields\n",
        "corn_map = ee.FeatureCollection(\"projects/ee-sp20-bcs-023/assets/AlfaFarmsMaizeLand\")"
      ]
    },
    {
      "cell_type": "code",
      "source": [
        "# Load the corn and other feature collections\n",
        "corn = ee.FeatureCollection(\"projects/ee-sp20-bcs-023/assets/alpha_corn\")\n",
        "other = ee.FeatureCollection(\"projects/ee-sp20-bcs-023/assets/classified_noncorn\")"
      ],
      "metadata": {
        "id": "NiRPSvvY2j1j"
      },
      "id": "NiRPSvvY2j1j",
      "execution_count": null,
      "outputs": []
    },
    {
      "cell_type": "code",
      "execution_count": null,
      "id": "sPCXtSd42bmY",
      "metadata": {
        "id": "sPCXtSd42bmY"
      },
      "outputs": [],
      "source": [
        "# Set the map center and add the corn map layer\n",
        "Map.centerObject(corn_map, 8)\n",
        "Map.addLayer(corn_map)"
      ]
    },
    {
      "cell_type": "code",
      "execution_count": null,
      "id": "Hi3hd9zF2nXi",
      "metadata": {
        "id": "Hi3hd9zF2nXi"
      },
      "outputs": [],
      "source": [
        "# Define the region of interest .. KASUR\n",
        "district_boundary = district_boundary_table.filter(ee.Filter.eq('DISTRICT', 'KASUR')).geometry()\n",
        "gt = corn.merge(other)"
      ]
    },
    {
      "cell_type": "code",
      "execution_count": null,
      "id": "HSKQUcyo3UEn",
      "metadata": {
        "id": "HSKQUcyo3UEn"
      },
      "outputs": [],
      "source": [
        "def addNDVIBand(image):\n",
        "  # calculate NDVI for input images using B8(Near Infrared) and B4(RED) bands\n",
        "    ndvi = image.normalizedDifference(['B8', 'B4']).rename('NDVI')\n",
        "    # Green Normalized Difference Vegetation Index using band B8 and B3(Green)\n",
        "    gndvi = image.normalizedDifference(['B8', 'B3']).rename('GNDVI')\n",
        "    #Enhanced Vegetation Index using B8, B4, B2(BLUE)\n",
        "    evi = image.expression(\n",
        "        '2.5 * ((NIR - RED) / (NIR + 6 * RED - 7.5 * BLUE + 1))',\n",
        "        {\n",
        "            'NIR': image.select('B8'),\n",
        "            'RED': image.select('B4'),\n",
        "            'BLUE': image.select('B2')\n",
        "        }\n",
        "    ).rename('EVI')\n",
        "    #returning original image with three bands\n",
        "    return image.addBands([ndvi, gndvi, evi])\n",
        "\n"
      ]
    },
    {
      "cell_type": "code",
      "execution_count": null,
      "id": "rA1qurc4xbXZ",
      "metadata": {
        "id": "rA1qurc4xbXZ"
      },
      "outputs": [],
      "source": [
        "#collection dates 01-01-2023 to 01-06-2023\n",
        "collection_dates = ['2023-01-01','2023-01-15','2023-02-01','2023-02-15','2023-03-01','2023-03-15','2023-04-01','2023-04-15','2023-05-01','2023-05-15','2023-06-01']"
      ]
    },
    {
      "cell_type": "code",
      "execution_count": null,
      "id": "qRRr_x6yxnlM",
      "metadata": {
        "id": "qRRr_x6yxnlM",
        "scrolled": true
      },
      "outputs": [],
      "source": [
        "#an empty list\n",
        "feature_data = []\n",
        "#loop iterates from 0 to one lesss than collection dates\n",
        "for i in range(0, len(collection_dates)-1):\n",
        "    print(i)\n",
        "\n",
        "    #start and end date for specific time periods\n",
        "    start_date = collection_dates[i]\n",
        "    end_date = collection_dates[i+1]\n",
        "\n",
        "    #counter variable used to assign unique variable\n",
        "    point_id_counter = 1\n",
        "\n",
        "    #filtering image collection that fall whithin specific time period and boundary defined\n",
        "    collection = sentinel2.filterDate(start_date, end_date).filterBounds(district_boundary)\n",
        "\n",
        "    #calculating vegetation indecis for eaxh image\n",
        "    collection = collection.map(addNDVIBand)\n",
        "\n",
        "    #calculates the median value for each band across all images & selecting specific bands\n",
        "    #of interest, including Sentinel-2 spectral bands and (NDVI, EVI, GNDVI)\n",
        "    collection_image = collection.median().select(['B1', 'B2', 'B3', 'B4', 'B5', 'B6', 'B7', 'B8', 'B9', 'B11', 'B12', 'NDVI', 'EVI', 'GNDVI'])\n",
        "\n",
        "    #extracting features for analysis , at the scale of 10 meters\n",
        "    extracted_features = collection_image.sampleRegions(\n",
        "    collection = gt,\n",
        "    properties = ['class'],\n",
        "    scale=10\n",
        "    )\n",
        "\n",
        "    #creating new feature collection containing label property copied from class\n",
        "    featureCollection = extracted_features.map(lambda feature: ee.Feature(None, {'label': feature.get('class')}).copyProperties(feature))\n",
        "\n",
        "    # Calculate the total number of features in the FeatureCollection\n",
        "    total_count = extracted_features.size().getInfo()\n",
        "    print(total_count)\n",
        "\n",
        "    # Calculate the number of features in each split\n",
        "    split_count = int(total_count / 10)\n",
        "\n",
        "    # Create a list to store the splits\n",
        "    splits = []\n",
        "\n",
        "    # Iterate over 10 partitions\n",
        "    for i in range(1, 11):\n",
        "        # Calculate the starting and ending index for each split\n",
        "        start_index = (i - 1) * split_count\n",
        "        end_index = i * split_count\n",
        "\n",
        "        # Filter the FeatureCollection to get the current split\n",
        "        split = extracted_features.toList(split_count, start_index)\n",
        "        splits.append(split)\n",
        "\n",
        "    print(\"----------------Date: \",start_date,\"-----------------\")\n",
        "\n",
        "    for split in splits:\n",
        "      #getInfo used to convert to the python list\n",
        "        split_list = split.getInfo()\n",
        "        for data in split_list:\n",
        "          # 'data' is a single feature in split\n",
        "            dictionary = data['properties']\n",
        "            dictionary['Date'] = start_date\n",
        "            dictionary['Point ID'] = point_id_counter\n",
        "            feature_data.append(dictionary)\n",
        "            point_id_counter = point_id_counter + 1\n",
        "\n",
        "\n",
        "    print(\"At the end, Point ID is: \",point_id_counter)"
      ]
    },
    {
      "cell_type": "code",
      "execution_count": null,
      "id": "1b16284f",
      "metadata": {
        "id": "1b16284f"
      },
      "outputs": [],
      "source": [
        "#extracted features\n",
        "feature_data"
      ]
    },
    {
      "cell_type": "code",
      "source": [
        "#creating csv file from above features\n",
        "import csv\n",
        "\n",
        "# Specify the CSV file name\n",
        "csv_file = 'data_features.csv'\n",
        "\n",
        "# Extract the keys from the first dictionary to use as column headers\n",
        "fieldnames = feature_data[0].keys()\n",
        "\n",
        "# Write the data to the CSV file\n",
        "with open(csv_file, 'w', newline='') as csvfile:\n",
        "    writer = csv.DictWriter(csvfile, fieldnames=fieldnames)\n",
        "\n",
        "    # Write the header row\n",
        "    writer.writeheader()\n",
        "\n",
        "    # writes each dictionary row as a row in the CSV file, with values corresponding to the column headers.\n",
        "    for row in feature_data:\n",
        "        writer.writerow(row)\n",
        "\n",
        "print(f'CSV file \"{csv_file}\" has been created.')\n"
      ],
      "metadata": {
        "colab": {
          "base_uri": "https://localhost:8080/"
        },
        "id": "se3HSKr5Goy8",
        "outputId": "f9fa9cda-a62a-40f1-8906-d5061082120e"
      },
      "id": "se3HSKr5Goy8",
      "execution_count": null,
      "outputs": [
        {
          "output_type": "stream",
          "name": "stdout",
          "text": [
            "CSV file \"data_features.csv\" has been created.\n"
          ]
        }
      ]
    },
    {
      "cell_type": "code",
      "execution_count": null,
      "id": "s4pGQCNWgJDO",
      "metadata": {
        "id": "s4pGQCNWgJDO"
      },
      "outputs": [],
      "source": [
        "# importing required libraries\n",
        "import pandas as pd\n",
        "import numpy as np\n",
        "from keras.models import Sequential\n",
        "from keras.layers import LSTM, Dense\n",
        "from sklearn.preprocessing import StandardScaler\n",
        "from sklearn.model_selection import train_test_split\n",
        "\n",
        "#reading a file\n",
        "data = pd.read_csv('data_features.csv')"
      ]
    },
    {
      "cell_type": "code",
      "source": [
        "data"
      ],
      "metadata": {
        "id": "KiJPWxt9koBI"
      },
      "id": "KiJPWxt9koBI",
      "execution_count": null,
      "outputs": []
    },
    {
      "cell_type": "code",
      "execution_count": null,
      "id": "yEwbDo5lRpEd",
      "metadata": {
        "id": "yEwbDo5lRpEd"
      },
      "outputs": [],
      "source": [
        "# 1. Preprocessing of data\n",
        "# Converting \"Date\" to proper date format\n",
        "data['Date'] = pd.to_datetime(data['Date'])\n"
      ]
    },
    {
      "cell_type": "code",
      "execution_count": null,
      "id": "t0PX10_KlH_z",
      "metadata": {
        "id": "t0PX10_KlH_z"
      },
      "outputs": [],
      "source": [
        "#index column \"date\"\n",
        "data.index = data.pop('Date')"
      ]
    },
    {
      "cell_type": "code",
      "execution_count": null,
      "id": "hNfxDcgcfVdU",
      "metadata": {
        "id": "hNfxDcgcfVdU"
      },
      "outputs": [],
      "source": [
        "data"
      ]
    },
    {
      "cell_type": "code",
      "execution_count": null,
      "id": "s07bnQ0-TIZN",
      "metadata": {
        "id": "s07bnQ0-TIZN"
      },
      "outputs": [],
      "source": [
        "# Encode the \"class\" column into integer type\n",
        "#data['class'] = data['class'].astype('int')\n",
        "\n",
        "# Step 2: Prepare the input sequences\n",
        "def create_sequences(data, window_size):\n",
        "    sequences = []\n",
        "    for point_id, group in data.groupby('Point ID'):\n",
        "        values = group.drop(['class', 'Point ID'], axis=1).values\n",
        "        num_sequences = len(values) - window_size + 1\n",
        "        for i in range(num_sequences):\n",
        "            sequence = values[i:i+window_size]\n",
        "            sequences.append((point_id, sequence))\n",
        "    return sequences\n",
        "\n",
        "window_size = 10  # You can adjust the window size based on your data and preference\n",
        "sequences = create_sequences(data, window_size)\n",
        "\n",
        "# Split the data into training and testing sets\n",
        "train_sequences, test_sequences = train_test_split(sequences, test_size=0.2, random_state=42)\n",
        "\n",
        "# Step 3: Build and train the LSTM model\n",
        "def build_lstm_model(input_shape):\n",
        "    model = Sequential()\n",
        "    model.add(LSTM(64, input_shape=input_shape))\n",
        "    model.add(Dense(1, activation='sigmoid'))  # Binary classification, so using sigmoid activation\n",
        "\n",
        "    model.compile(loss='binary_crossentropy', optimizer='adam', metrics=['accuracy'])\n",
        "    return model\n",
        "\n",
        "# Prepare the training data\n",
        "X_train = np.array([seq for _, seq in train_sequences])\n",
        "y_train = np.array([data[data['Point ID'] == point_id]['class'].iloc[-1] for point_id, _ in train_sequences])\n",
        "\n",
        "# Prepare the testing data\n",
        "X_test = np.array([seq for _, seq in test_sequences])\n",
        "y_test = np.array([data[data['Point ID'] == point_id]['class'].iloc[-1] for point_id, _ in test_sequences])\n",
        "\n",
        "# Standardize the input data for better training\n",
        "scaler = StandardScaler()\n",
        "X_train = scaler.fit_transform(X_train.reshape(-1, X_train.shape[-1])).reshape(X_train.shape)\n",
        "X_test = scaler.transform(X_test.reshape(-1, X_test.shape[-1])).reshape(X_test.shape)\n",
        "\n"
      ]
    },
    {
      "cell_type": "code",
      "execution_count": null,
      "id": "ck45qKQ4TxZB",
      "metadata": {
        "id": "ck45qKQ4TxZB"
      },
      "outputs": [],
      "source": [
        "# Build and train the LSTM model\n",
        "input_shape = (window_size, X_train.shape[2])\n",
        "model = build_lstm_model(input_shape)\n",
        "history = model.fit(X_train, y_train, epochs=30, batch_size=32, validation_split=0.1)\n",
        "\n",
        "\n"
      ]
    },
    {
      "cell_type": "code",
      "execution_count": null,
      "id": "ckrd3a2KT2HD",
      "metadata": {
        "id": "ckrd3a2KT2HD",
        "colab": {
          "base_uri": "https://localhost:8080/"
        },
        "outputId": "a8270b2a-9256-48c0-e9f6-0c4c237d4bb1"
      },
      "outputs": [
        {
          "output_type": "stream",
          "name": "stdout",
          "text": [
            "67/67 [==============================] - 0s 4ms/step - loss: 0.0082 - accuracy: 0.9972\n"
          ]
        },
        {
          "output_type": "execute_result",
          "data": {
            "text/plain": [
              "[0.008222227916121483, 0.997183084487915]"
            ]
          },
          "metadata": {},
          "execution_count": 25
        }
      ],
      "source": [
        "model.evaluate(X_test,y_test)"
      ]
    },
    {
      "cell_type": "code",
      "execution_count": null,
      "id": "TP9Fv5osT4cN",
      "metadata": {
        "id": "TP9Fv5osT4cN",
        "colab": {
          "base_uri": "https://localhost:8080/",
          "height": 817
        },
        "outputId": "e626ee5f-a704-46d2-eac4-854f3d9b66a9"
      },
      "outputs": [
        {
          "output_type": "display_data",
          "data": {
            "text/html": [
              "<html>\n",
              "<head><meta charset=\"utf-8\" /></head>\n",
              "<body>\n",
              "    <div>            <script src=\"https://cdnjs.cloudflare.com/ajax/libs/mathjax/2.7.5/MathJax.js?config=TeX-AMS-MML_SVG\"></script><script type=\"text/javascript\">if (window.MathJax && window.MathJax.Hub && window.MathJax.Hub.Config) {window.MathJax.Hub.Config({SVG: {font: \"STIX-Web\"}});}</script>                <script type=\"text/javascript\">window.PlotlyConfig = {MathJaxConfig: 'local'};</script>\n",
              "        <script charset=\"utf-8\" src=\"https://cdn.plot.ly/plotly-2.24.1.min.js\"></script>                <div id=\"11424b83-1fa2-4038-b244-e85eb8813cc8\" class=\"plotly-graph-div\" style=\"height:800px; width:990px;\"></div>            <script type=\"text/javascript\">                                    window.PLOTLYENV=window.PLOTLYENV || {};                                    if (document.getElementById(\"11424b83-1fa2-4038-b244-e85eb8813cc8\")) {                    Plotly.newPlot(                        \"11424b83-1fa2-4038-b244-e85eb8813cc8\",                        [{\"mode\":\"lines\",\"name\":\"Loss\",\"x\":[0,1,2,3,4,5,6,7,8,9,10,11,12,13,14,15,16,17,18,19,20,21,22,23,24,25,26,27,28,29],\"y\":[0.12053077667951584,0.044152963906526566,0.033521126955747604,0.028536763042211533,0.02412343956530094,0.020880483090877533,0.016680411994457245,0.015894845128059387,0.01528491172939539,0.012978536076843739,0.011008483357727528,0.009013885632157326,0.009810001589357853,0.008777131326496601,0.00871757511049509,0.00917966477572918,0.007615626789629459,0.007772119715809822,0.007623302284628153,0.006705090403556824,0.005374957341700792,0.004459010902792215,0.007417110726237297,0.004961908794939518,0.003716006176546216,0.007477772422134876,0.003623741678893566,0.002875597681850195,0.004731012042611837,0.004292132332921028],\"type\":\"scatter\",\"xaxis\":\"x\",\"yaxis\":\"y\"},{\"mode\":\"lines\",\"name\":\"Validation Loss\",\"x\":[0,1,2,3,4,5,6,7,8,9,10,11,12,13,14,15,16,17,18,19,20,21,22,23,24,25,26,27,28,29],\"y\":[0.04393913224339485,0.0306753758341074,0.0355372317135334,0.01822989620268345,0.015758922323584557,0.014872882515192032,0.013671563938260078,0.01725027896463871,0.010678323917090893,0.008393009193241596,0.007662437856197357,0.010319466702640057,0.005583493504673243,0.0033663606736809015,0.0065254932269454,0.006807796657085419,0.004030854441225529,0.0028360052965581417,0.008027466014027596,0.002869706368073821,0.0036391974426805973,0.004373148083686829,0.0059056817553937435,0.002804393181577325,0.0013460858026519418,0.004986358340829611,0.0031455522403120995,0.0015257137129083276,0.001658412627875805,0.0017338900361210108],\"type\":\"scatter\",\"xaxis\":\"x\",\"yaxis\":\"y\"},{\"mode\":\"lines\",\"name\":\"Accuracy\",\"x\":[0,1,2,3,4,5,6,7,8,9,10,11,12,13,14,15,16,17,18,19,20,21,22,23,24,25,26,27,28,29],\"y\":[0.9713093638420105,0.9865675568580627,0.9876108765602112,0.988914966583252,0.9908711314201355,0.9917840361595154,0.994001030921936,0.9945226907730103,0.9938706159591675,0.9947835206985474,0.9960876107215881,0.9958268404006958,0.9958268404006958,0.9967396855354309,0.9962180256843567,0.9967396855354309,0.9967396855354309,0.9962180256843567,0.9963484406471252,0.9968701004981995,0.9977830052375793,0.9985654950141907,0.9967396855354309,0.9977830052375793,0.9984350800514221,0.9964788556098938,0.9983046650886536,0.9992175102233887,0.9975221753120422,0.9984350800514221],\"type\":\"scatter\",\"xaxis\":\"x2\",\"yaxis\":\"y2\"},{\"mode\":\"lines\",\"name\":\"Validation Accuracy\",\"x\":[0,1,2,3,4,5,6,7,8,9,10,11,12,13,14,15,16,17,18,19,20,21,22,23,24,25,26,27,28,29],\"y\":[0.98591548204422,0.98591548204422,0.9882628917694092,0.9941314458847046,0.9929577708244324,0.9941314458847046,0.9953051805496216,0.9929577708244324,0.9953051805496216,0.9964788556098938,0.998826265335083,0.9964788556098938,0.998826265335083,1.0,0.9976525902748108,0.9953051805496216,0.9976525902748108,0.998826265335083,0.9976525902748108,0.998826265335083,1.0,0.998826265335083,0.9976525902748108,0.998826265335083,0.998826265335083,0.9964788556098938,0.998826265335083,0.998826265335083,0.998826265335083,1.0],\"type\":\"scatter\",\"xaxis\":\"x2\",\"yaxis\":\"y2\"}],                        {\"template\":{\"data\":{\"barpolar\":[{\"marker\":{\"line\":{\"color\":\"white\",\"width\":0.5},\"pattern\":{\"fillmode\":\"overlay\",\"size\":10,\"solidity\":0.2}},\"type\":\"barpolar\"}],\"bar\":[{\"error_x\":{\"color\":\"#2a3f5f\"},\"error_y\":{\"color\":\"#2a3f5f\"},\"marker\":{\"line\":{\"color\":\"white\",\"width\":0.5},\"pattern\":{\"fillmode\":\"overlay\",\"size\":10,\"solidity\":0.2}},\"type\":\"bar\"}],\"carpet\":[{\"aaxis\":{\"endlinecolor\":\"#2a3f5f\",\"gridcolor\":\"#C8D4E3\",\"linecolor\":\"#C8D4E3\",\"minorgridcolor\":\"#C8D4E3\",\"startlinecolor\":\"#2a3f5f\"},\"baxis\":{\"endlinecolor\":\"#2a3f5f\",\"gridcolor\":\"#C8D4E3\",\"linecolor\":\"#C8D4E3\",\"minorgridcolor\":\"#C8D4E3\",\"startlinecolor\":\"#2a3f5f\"},\"type\":\"carpet\"}],\"choropleth\":[{\"colorbar\":{\"outlinewidth\":0,\"ticks\":\"\"},\"type\":\"choropleth\"}],\"contourcarpet\":[{\"colorbar\":{\"outlinewidth\":0,\"ticks\":\"\"},\"type\":\"contourcarpet\"}],\"contour\":[{\"colorbar\":{\"outlinewidth\":0,\"ticks\":\"\"},\"colorscale\":[[0.0,\"#0d0887\"],[0.1111111111111111,\"#46039f\"],[0.2222222222222222,\"#7201a8\"],[0.3333333333333333,\"#9c179e\"],[0.4444444444444444,\"#bd3786\"],[0.5555555555555556,\"#d8576b\"],[0.6666666666666666,\"#ed7953\"],[0.7777777777777778,\"#fb9f3a\"],[0.8888888888888888,\"#fdca26\"],[1.0,\"#f0f921\"]],\"type\":\"contour\"}],\"heatmapgl\":[{\"colorbar\":{\"outlinewidth\":0,\"ticks\":\"\"},\"colorscale\":[[0.0,\"#0d0887\"],[0.1111111111111111,\"#46039f\"],[0.2222222222222222,\"#7201a8\"],[0.3333333333333333,\"#9c179e\"],[0.4444444444444444,\"#bd3786\"],[0.5555555555555556,\"#d8576b\"],[0.6666666666666666,\"#ed7953\"],[0.7777777777777778,\"#fb9f3a\"],[0.8888888888888888,\"#fdca26\"],[1.0,\"#f0f921\"]],\"type\":\"heatmapgl\"}],\"heatmap\":[{\"colorbar\":{\"outlinewidth\":0,\"ticks\":\"\"},\"colorscale\":[[0.0,\"#0d0887\"],[0.1111111111111111,\"#46039f\"],[0.2222222222222222,\"#7201a8\"],[0.3333333333333333,\"#9c179e\"],[0.4444444444444444,\"#bd3786\"],[0.5555555555555556,\"#d8576b\"],[0.6666666666666666,\"#ed7953\"],[0.7777777777777778,\"#fb9f3a\"],[0.8888888888888888,\"#fdca26\"],[1.0,\"#f0f921\"]],\"type\":\"heatmap\"}],\"histogram2dcontour\":[{\"colorbar\":{\"outlinewidth\":0,\"ticks\":\"\"},\"colorscale\":[[0.0,\"#0d0887\"],[0.1111111111111111,\"#46039f\"],[0.2222222222222222,\"#7201a8\"],[0.3333333333333333,\"#9c179e\"],[0.4444444444444444,\"#bd3786\"],[0.5555555555555556,\"#d8576b\"],[0.6666666666666666,\"#ed7953\"],[0.7777777777777778,\"#fb9f3a\"],[0.8888888888888888,\"#fdca26\"],[1.0,\"#f0f921\"]],\"type\":\"histogram2dcontour\"}],\"histogram2d\":[{\"colorbar\":{\"outlinewidth\":0,\"ticks\":\"\"},\"colorscale\":[[0.0,\"#0d0887\"],[0.1111111111111111,\"#46039f\"],[0.2222222222222222,\"#7201a8\"],[0.3333333333333333,\"#9c179e\"],[0.4444444444444444,\"#bd3786\"],[0.5555555555555556,\"#d8576b\"],[0.6666666666666666,\"#ed7953\"],[0.7777777777777778,\"#fb9f3a\"],[0.8888888888888888,\"#fdca26\"],[1.0,\"#f0f921\"]],\"type\":\"histogram2d\"}],\"histogram\":[{\"marker\":{\"pattern\":{\"fillmode\":\"overlay\",\"size\":10,\"solidity\":0.2}},\"type\":\"histogram\"}],\"mesh3d\":[{\"colorbar\":{\"outlinewidth\":0,\"ticks\":\"\"},\"type\":\"mesh3d\"}],\"parcoords\":[{\"line\":{\"colorbar\":{\"outlinewidth\":0,\"ticks\":\"\"}},\"type\":\"parcoords\"}],\"pie\":[{\"automargin\":true,\"type\":\"pie\"}],\"scatter3d\":[{\"line\":{\"colorbar\":{\"outlinewidth\":0,\"ticks\":\"\"}},\"marker\":{\"colorbar\":{\"outlinewidth\":0,\"ticks\":\"\"}},\"type\":\"scatter3d\"}],\"scattercarpet\":[{\"marker\":{\"colorbar\":{\"outlinewidth\":0,\"ticks\":\"\"}},\"type\":\"scattercarpet\"}],\"scattergeo\":[{\"marker\":{\"colorbar\":{\"outlinewidth\":0,\"ticks\":\"\"}},\"type\":\"scattergeo\"}],\"scattergl\":[{\"marker\":{\"colorbar\":{\"outlinewidth\":0,\"ticks\":\"\"}},\"type\":\"scattergl\"}],\"scattermapbox\":[{\"marker\":{\"colorbar\":{\"outlinewidth\":0,\"ticks\":\"\"}},\"type\":\"scattermapbox\"}],\"scatterpolargl\":[{\"marker\":{\"colorbar\":{\"outlinewidth\":0,\"ticks\":\"\"}},\"type\":\"scatterpolargl\"}],\"scatterpolar\":[{\"marker\":{\"colorbar\":{\"outlinewidth\":0,\"ticks\":\"\"}},\"type\":\"scatterpolar\"}],\"scatter\":[{\"fillpattern\":{\"fillmode\":\"overlay\",\"size\":10,\"solidity\":0.2},\"type\":\"scatter\"}],\"scatterternary\":[{\"marker\":{\"colorbar\":{\"outlinewidth\":0,\"ticks\":\"\"}},\"type\":\"scatterternary\"}],\"surface\":[{\"colorbar\":{\"outlinewidth\":0,\"ticks\":\"\"},\"colorscale\":[[0.0,\"#0d0887\"],[0.1111111111111111,\"#46039f\"],[0.2222222222222222,\"#7201a8\"],[0.3333333333333333,\"#9c179e\"],[0.4444444444444444,\"#bd3786\"],[0.5555555555555556,\"#d8576b\"],[0.6666666666666666,\"#ed7953\"],[0.7777777777777778,\"#fb9f3a\"],[0.8888888888888888,\"#fdca26\"],[1.0,\"#f0f921\"]],\"type\":\"surface\"}],\"table\":[{\"cells\":{\"fill\":{\"color\":\"#EBF0F8\"},\"line\":{\"color\":\"white\"}},\"header\":{\"fill\":{\"color\":\"#C8D4E3\"},\"line\":{\"color\":\"white\"}},\"type\":\"table\"}]},\"layout\":{\"annotationdefaults\":{\"arrowcolor\":\"#2a3f5f\",\"arrowhead\":0,\"arrowwidth\":1},\"autotypenumbers\":\"strict\",\"coloraxis\":{\"colorbar\":{\"outlinewidth\":0,\"ticks\":\"\"}},\"colorscale\":{\"diverging\":[[0,\"#8e0152\"],[0.1,\"#c51b7d\"],[0.2,\"#de77ae\"],[0.3,\"#f1b6da\"],[0.4,\"#fde0ef\"],[0.5,\"#f7f7f7\"],[0.6,\"#e6f5d0\"],[0.7,\"#b8e186\"],[0.8,\"#7fbc41\"],[0.9,\"#4d9221\"],[1,\"#276419\"]],\"sequential\":[[0.0,\"#0d0887\"],[0.1111111111111111,\"#46039f\"],[0.2222222222222222,\"#7201a8\"],[0.3333333333333333,\"#9c179e\"],[0.4444444444444444,\"#bd3786\"],[0.5555555555555556,\"#d8576b\"],[0.6666666666666666,\"#ed7953\"],[0.7777777777777778,\"#fb9f3a\"],[0.8888888888888888,\"#fdca26\"],[1.0,\"#f0f921\"]],\"sequentialminus\":[[0.0,\"#0d0887\"],[0.1111111111111111,\"#46039f\"],[0.2222222222222222,\"#7201a8\"],[0.3333333333333333,\"#9c179e\"],[0.4444444444444444,\"#bd3786\"],[0.5555555555555556,\"#d8576b\"],[0.6666666666666666,\"#ed7953\"],[0.7777777777777778,\"#fb9f3a\"],[0.8888888888888888,\"#fdca26\"],[1.0,\"#f0f921\"]]},\"colorway\":[\"#636efa\",\"#EF553B\",\"#00cc96\",\"#ab63fa\",\"#FFA15A\",\"#19d3f3\",\"#FF6692\",\"#B6E880\",\"#FF97FF\",\"#FECB52\"],\"font\":{\"color\":\"#2a3f5f\"},\"geo\":{\"bgcolor\":\"white\",\"lakecolor\":\"white\",\"landcolor\":\"white\",\"showlakes\":true,\"showland\":true,\"subunitcolor\":\"#C8D4E3\"},\"hoverlabel\":{\"align\":\"left\"},\"hovermode\":\"closest\",\"mapbox\":{\"style\":\"light\"},\"paper_bgcolor\":\"white\",\"plot_bgcolor\":\"white\",\"polar\":{\"angularaxis\":{\"gridcolor\":\"#EBF0F8\",\"linecolor\":\"#EBF0F8\",\"ticks\":\"\"},\"bgcolor\":\"white\",\"radialaxis\":{\"gridcolor\":\"#EBF0F8\",\"linecolor\":\"#EBF0F8\",\"ticks\":\"\"}},\"scene\":{\"xaxis\":{\"backgroundcolor\":\"white\",\"gridcolor\":\"#DFE8F3\",\"gridwidth\":2,\"linecolor\":\"#EBF0F8\",\"showbackground\":true,\"ticks\":\"\",\"zerolinecolor\":\"#EBF0F8\"},\"yaxis\":{\"backgroundcolor\":\"white\",\"gridcolor\":\"#DFE8F3\",\"gridwidth\":2,\"linecolor\":\"#EBF0F8\",\"showbackground\":true,\"ticks\":\"\",\"zerolinecolor\":\"#EBF0F8\"},\"zaxis\":{\"backgroundcolor\":\"white\",\"gridcolor\":\"#DFE8F3\",\"gridwidth\":2,\"linecolor\":\"#EBF0F8\",\"showbackground\":true,\"ticks\":\"\",\"zerolinecolor\":\"#EBF0F8\"}},\"shapedefaults\":{\"line\":{\"color\":\"#2a3f5f\"}},\"ternary\":{\"aaxis\":{\"gridcolor\":\"#DFE8F3\",\"linecolor\":\"#A2B1C6\",\"ticks\":\"\"},\"baxis\":{\"gridcolor\":\"#DFE8F3\",\"linecolor\":\"#A2B1C6\",\"ticks\":\"\"},\"bgcolor\":\"white\",\"caxis\":{\"gridcolor\":\"#DFE8F3\",\"linecolor\":\"#A2B1C6\",\"ticks\":\"\"}},\"title\":{\"x\":0.05},\"xaxis\":{\"automargin\":true,\"gridcolor\":\"#EBF0F8\",\"linecolor\":\"#EBF0F8\",\"ticks\":\"\",\"title\":{\"standoff\":15},\"zerolinecolor\":\"#EBF0F8\",\"zerolinewidth\":2},\"yaxis\":{\"automargin\":true,\"gridcolor\":\"#EBF0F8\",\"linecolor\":\"#EBF0F8\",\"ticks\":\"\",\"title\":{\"standoff\":15},\"zerolinecolor\":\"#EBF0F8\",\"zerolinewidth\":2}}},\"xaxis\":{\"anchor\":\"y\",\"domain\":[0.0,1.0]},\"yaxis\":{\"anchor\":\"x\",\"domain\":[0.625,1.0]},\"xaxis2\":{\"anchor\":\"y2\",\"domain\":[0.0,1.0]},\"yaxis2\":{\"anchor\":\"x2\",\"domain\":[0.0,0.375]},\"annotations\":[{\"font\":{\"size\":16},\"showarrow\":false,\"text\":\"Model Loss\",\"x\":0.5,\"xanchor\":\"center\",\"xref\":\"paper\",\"y\":1.0,\"yanchor\":\"bottom\",\"yref\":\"paper\"},{\"font\":{\"size\":16},\"showarrow\":false,\"text\":\"Model Accuracy\",\"x\":0.5,\"xanchor\":\"center\",\"xref\":\"paper\",\"y\":0.375,\"yanchor\":\"bottom\",\"yref\":\"paper\"}],\"height\":800,\"width\":990},                        {\"responsive\": true}                    ).then(function(){\n",
              "                            \n",
              "var gd = document.getElementById('11424b83-1fa2-4038-b244-e85eb8813cc8');\n",
              "var x = new MutationObserver(function (mutations, observer) {{\n",
              "        var display = window.getComputedStyle(gd).display;\n",
              "        if (!display || display === 'none') {{\n",
              "            console.log([gd, 'removed!']);\n",
              "            Plotly.purge(gd);\n",
              "            observer.disconnect();\n",
              "        }}\n",
              "}});\n",
              "\n",
              "// Listen for the removal of the full notebook cells\n",
              "var notebookContainer = gd.closest('#notebook-container');\n",
              "if (notebookContainer) {{\n",
              "    x.observe(notebookContainer, {childList: true});\n",
              "}}\n",
              "\n",
              "// Listen for the clearing of the current output cell\n",
              "var outputEl = gd.closest('.output');\n",
              "if (outputEl) {{\n",
              "    x.observe(outputEl, {childList: true});\n",
              "}}\n",
              "\n",
              "                        })                };                            </script>        </div>\n",
              "</body>\n",
              "</html>"
            ]
          },
          "metadata": {}
        }
      ],
      "source": [
        "from plotly.subplots import make_subplots\n",
        "import matplotlib.pyplot as plt\n",
        "import seaborn as sns\n",
        "import plotly.graph_objects as go\n",
        "history_df = pd.DataFrame(history.history)\n",
        "# Create subplots with 2 rows and 1 column\n",
        "fig = make_subplots(rows=2, cols=1, subplot_titles=('Model Loss', 'Model Accuracy'))\n",
        "\n",
        "# Add loss trace to subplot 1\n",
        "fig.add_trace(go.Scatter(x=history_df.index, y=history_df['loss'], mode='lines', name='Loss'), row=1, col=1)\n",
        "fig.add_trace(go.Scatter(x=history_df.index, y=history_df['val_loss'], mode='lines', name='Validation Loss'), row=1, col=1)\n",
        "\n",
        "# Add accuracy trace to subplot 2\n",
        "fig.add_trace(go.Scatter(x=history_df.index, y=history_df['accuracy'], mode='lines', name='Accuracy'), row=2, col=1)\n",
        "fig.add_trace(go.Scatter(x=history_df.index, y=history_df['val_accuracy'], mode='lines', name='Validation Accuracy'), row=2, col=1)\n",
        "\n",
        "fig.update_layout(height=800, width=990, template='plotly_white')\n",
        "\n",
        "# Show the plot\n",
        "fig.show()"
      ]
    }
  ],
  "metadata": {
    "accelerator": "GPU",
    "colab": {
      "gpuType": "T4",
      "provenance": [],
      "include_colab_link": true
    },
    "kernelspec": {
      "display_name": "Python 3 (ipykernel)",
      "language": "python",
      "name": "python3"
    },
    "language_info": {
      "codemirror_mode": {
        "name": "ipython",
        "version": 3
      },
      "file_extension": ".py",
      "mimetype": "text/x-python",
      "name": "python",
      "nbconvert_exporter": "python",
      "pygments_lexer": "ipython3",
      "version": "3.9.12"
    }
  },
  "nbformat": 4,
  "nbformat_minor": 5
}